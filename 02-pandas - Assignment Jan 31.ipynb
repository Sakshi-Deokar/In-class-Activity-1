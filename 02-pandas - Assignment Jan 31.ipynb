{
 "cells": [
  {
   "cell_type": "code",
   "execution_count": 2,
   "id": "b8d5a930",
   "metadata": {},
   "outputs": [],
   "source": [
    "import pandas as pd\n",
    "import matplotlib.pyplot as plt"
   ]
  },
  {
   "cell_type": "code",
   "execution_count": 3,
   "id": "37e96645",
   "metadata": {},
   "outputs": [],
   "source": [
    "#Load the dataset\n",
    "\n",
    "df = pd.read_csv('/Users/sakshideokar/Documents/OIM7502_SP24/data/Wage.csv')"
   ]
  },
  {
   "cell_type": "code",
   "execution_count": 4,
   "id": "18a4fcfe",
   "metadata": {},
   "outputs": [
    {
     "name": "stdout",
     "output_type": "stream",
     "text": [
      "   year  age            maritl      race        education              region  \\\n",
      "0  2006   18  1. Never Married  1. White     1. < HS Grad  2. Middle Atlantic   \n",
      "1  2004   24  1. Never Married  1. White  4. College Grad  2. Middle Atlantic   \n",
      "2  2003   45        2. Married  1. White  3. Some College  2. Middle Atlantic   \n",
      "3  2003   43        2. Married  3. Asian  4. College Grad  2. Middle Atlantic   \n",
      "4  2005   50       4. Divorced  1. White       2. HS Grad  2. Middle Atlantic   \n",
      "5  2008   54        2. Married  1. White  4. College Grad  2. Middle Atlantic   \n",
      "6  2009   44        2. Married  4. Other  3. Some College  2. Middle Atlantic   \n",
      "7  2008   30  1. Never Married  3. Asian  3. Some College  2. Middle Atlantic   \n",
      "8  2006   41  1. Never Married  2. Black  3. Some College  2. Middle Atlantic   \n",
      "9  2004   52        2. Married  1. White       2. HS Grad  2. Middle Atlantic   \n",
      "\n",
      "         jobclass          health health_ins   logwage        wage  \n",
      "0   1. Industrial       1. <=Good      2. No  4.318063   75.043154  \n",
      "1  2. Information  2. >=Very Good      2. No  4.255273   70.476020  \n",
      "2   1. Industrial       1. <=Good     1. Yes  4.875061  130.982177  \n",
      "3  2. Information  2. >=Very Good     1. Yes  5.041393  154.685293  \n",
      "4  2. Information       1. <=Good     1. Yes  4.318063   75.043154  \n",
      "5  2. Information  2. >=Very Good     1. Yes  4.845098  127.115744  \n",
      "6   1. Industrial  2. >=Very Good     1. Yes  5.133021  169.528538  \n",
      "7  2. Information       1. <=Good     1. Yes  4.716003  111.720849  \n",
      "8  2. Information  2. >=Very Good     1. Yes  4.778151  118.884359  \n",
      "9  2. Information  2. >=Very Good     1. Yes  4.857332  128.680488  \n"
     ]
    }
   ],
   "source": [
    "#Display the first 10 rows\n",
    "\n",
    "print(df.head(10))"
   ]
  },
  {
   "cell_type": "code",
   "execution_count": 5,
   "id": "b67db886",
   "metadata": {},
   "outputs": [
    {
     "name": "stdout",
     "output_type": "stream",
     "text": [
      "      year  age            maritl      race        education  \\\n",
      "2990  2009   50        2. Married  2. Black       2. HS Grad   \n",
      "2991  2003   26  1. Never Married  2. Black  3. Some College   \n",
      "2992  2007   35        2. Married  1. White     1. < HS Grad   \n",
      "2993  2006   31        2. Married  1. White       2. HS Grad   \n",
      "2994  2009   31        2. Married  1. White  4. College Grad   \n",
      "2995  2008   44        2. Married  1. White  3. Some College   \n",
      "2996  2007   30        2. Married  1. White       2. HS Grad   \n",
      "2997  2005   27        2. Married  2. Black     1. < HS Grad   \n",
      "2998  2005   27  1. Never Married  1. White  3. Some College   \n",
      "2999  2009   55      5. Separated  1. White       2. HS Grad   \n",
      "\n",
      "                  region        jobclass          health health_ins   logwage  \\\n",
      "2990  2. Middle Atlantic   1. Industrial  2. >=Very Good      2. No  4.886491   \n",
      "2991  2. Middle Atlantic   1. Industrial  2. >=Very Good      2. No  4.778151   \n",
      "2992  2. Middle Atlantic   1. Industrial       1. <=Good      2. No  4.698970   \n",
      "2993  2. Middle Atlantic  2. Information  2. >=Very Good     1. Yes  4.633468   \n",
      "2994  2. Middle Atlantic  2. Information  2. >=Very Good     1. Yes  4.893207   \n",
      "2995  2. Middle Atlantic   1. Industrial  2. >=Very Good     1. Yes  5.041393   \n",
      "2996  2. Middle Atlantic   1. Industrial  2. >=Very Good      2. No  4.602060   \n",
      "2997  2. Middle Atlantic   1. Industrial       1. <=Good      2. No  4.193125   \n",
      "2998  2. Middle Atlantic   1. Industrial  2. >=Very Good     1. Yes  4.477121   \n",
      "2999  2. Middle Atlantic   1. Industrial       1. <=Good     1. Yes  4.505150   \n",
      "\n",
      "            wage  \n",
      "2990  132.487821  \n",
      "2991  118.884359  \n",
      "2992  109.833986  \n",
      "2993  102.870247  \n",
      "2994  133.380608  \n",
      "2995  154.685293  \n",
      "2996   99.689464  \n",
      "2997   66.229408  \n",
      "2998   87.981033  \n",
      "2999   90.481913  \n"
     ]
    }
   ],
   "source": [
    "#Display the last 10 rows\n",
    "\n",
    "print(df.tail(10))"
   ]
  },
  {
   "cell_type": "code",
   "execution_count": 6,
   "id": "a238fdd8",
   "metadata": {},
   "outputs": [
    {
     "name": "stdout",
     "output_type": "stream",
     "text": [
      "The number of rows are 3000\n"
     ]
    }
   ],
   "source": [
    "#How many rows are in the DataFrame\n",
    "\n",
    "number_Of_Rows = len(df)\n",
    "print(\"The number of rows are\", number_Of_Rows)"
   ]
  },
  {
   "cell_type": "code",
   "execution_count": 7,
   "id": "81cfe7dc",
   "metadata": {},
   "outputs": [
    {
     "name": "stdout",
     "output_type": "stream",
     "text": [
      "<class 'pandas.core.frame.DataFrame'>\n",
      "RangeIndex: 3000 entries, 0 to 2999\n",
      "Data columns (total 11 columns):\n",
      " #   Column      Non-Null Count  Dtype  \n",
      "---  ------      --------------  -----  \n",
      " 0   year        3000 non-null   int64  \n",
      " 1   age         3000 non-null   int64  \n",
      " 2   maritl      3000 non-null   object \n",
      " 3   race        3000 non-null   object \n",
      " 4   education   3000 non-null   object \n",
      " 5   region      3000 non-null   object \n",
      " 6   jobclass    3000 non-null   object \n",
      " 7   health      3000 non-null   object \n",
      " 8   health_ins  3000 non-null   object \n",
      " 9   logwage     3000 non-null   float64\n",
      " 10  wage        3000 non-null   float64\n",
      "dtypes: float64(2), int64(2), object(7)\n",
      "memory usage: 257.9+ KB\n"
     ]
    }
   ],
   "source": [
    "#Display metadata for the DataFrame\n",
    "\n",
    "df.info()"
   ]
  },
  {
   "cell_type": "code",
   "execution_count": 8,
   "id": "456f190c",
   "metadata": {},
   "outputs": [
    {
     "name": "stdout",
     "output_type": "stream",
     "text": [
      "Column Names: Index(['year', 'age', 'maritl', 'race', 'education', 'region', 'jobclass',\n",
      "       'health', 'health_ins', 'logwage', 'wage'],\n",
      "      dtype='object')\n"
     ]
    }
   ],
   "source": [
    "Columns = df.columns\n",
    "print('Column Names:', Columns)"
   ]
  },
  {
   "cell_type": "code",
   "execution_count": 9,
   "id": "7db92f73",
   "metadata": {},
   "outputs": [
    {
     "name": "stdout",
     "output_type": "stream",
     "text": [
      "Data types of each column:\n",
      "year            int64\n",
      "age             int64\n",
      "maritl         object\n",
      "race           object\n",
      "education      object\n",
      "region         object\n",
      "jobclass       object\n",
      "health         object\n",
      "health_ins     object\n",
      "logwage       float64\n",
      "wage          float64\n",
      "dtype: object\n"
     ]
    }
   ],
   "source": [
    "data_types = df.dtypes\n",
    "print('Data types of each column:')\n",
    "print(data_types)"
   ]
  },
  {
   "cell_type": "code",
   "execution_count": 10,
   "id": "86a578cf",
   "metadata": {},
   "outputs": [
    {
     "name": "stdout",
     "output_type": "stream",
     "text": [
      "Data type of year: int64\n",
      "Data type of region: object\n"
     ]
    }
   ],
   "source": [
    "#Display the data types for two columns from the dataset\n",
    "\n",
    "Column_Names = ['year', 'region']\n",
    "for column_name in Column_Names:\n",
    "    dtype = df[column_name].dtype\n",
    "    print(f'Data type of {column_name}: {dtype}')"
   ]
  },
  {
   "cell_type": "code",
   "execution_count": 11,
   "id": "3e962b7e",
   "metadata": {},
   "outputs": [
    {
     "name": "stdout",
     "output_type": "stream",
     "text": [
      "Column Names: Index(['year', 'age', 'maritl', 'race', 'education', 'region', 'jobclass',\n",
      "       'health', 'health_ins', 'logwage', 'wage'],\n",
      "      dtype='object')\n"
     ]
    }
   ],
   "source": [
    "#Display the column names from the dataset\n",
    "\n",
    "Columns = df.columns\n",
    "print('Column Names:', Columns)"
   ]
  },
  {
   "cell_type": "code",
   "execution_count": 12,
   "id": "72a219da",
   "metadata": {},
   "outputs": [
    {
     "data": {
      "text/plain": [
       "RangeIndex(start=0, stop=3000, step=1)"
      ]
     },
     "execution_count": 12,
     "metadata": {},
     "output_type": "execute_result"
    }
   ],
   "source": [
    "#Display the DataFrame’s index\n",
    "\n",
    "df.index"
   ]
  },
  {
   "cell_type": "code",
   "execution_count": 13,
   "id": "9d9b93fb",
   "metadata": {},
   "outputs": [
    {
     "name": "stdout",
     "output_type": "stream",
     "text": [
      "Number of Elements 33000\n"
     ]
    }
   ],
   "source": [
    "#How many individual elements are in the DataFrame?\n",
    "\n",
    "Elements = len(df.index) * df.shape[1]\n",
    "print(\"Number of Elements\", Elements)"
   ]
  },
  {
   "cell_type": "code",
   "execution_count": 14,
   "id": "9c1ab4ea",
   "metadata": {},
   "outputs": [
    {
     "name": "stdout",
     "output_type": "stream",
     "text": [
      "Number Of Columns & Rows are (3000, 11)\n"
     ]
    }
   ],
   "source": [
    "#How many columns and rows are there?\n",
    "\n",
    "Number_Of_Columns_And_Rows = df.shape\n",
    "print(\"Number Of Columns & Rows are\", Number_Of_Columns_And_Rows)"
   ]
  },
  {
   "cell_type": "code",
   "execution_count": 15,
   "id": "a2d56450",
   "metadata": {},
   "outputs": [
    {
     "name": "stdout",
     "output_type": "stream",
     "text": [
      "Statistics:               wage          age\n",
      "count  3000.000000  3000.000000\n",
      "mean    111.703608    42.414667\n",
      "std      41.728595    11.542406\n",
      "min      20.085537    18.000000\n",
      "25%      85.383940    33.750000\n",
      "50%     104.921507    42.000000\n",
      "75%     128.680488    51.000000\n",
      "max     318.342430    80.000000\n"
     ]
    }
   ],
   "source": [
    "#Display descriptive statistics for the wage column, and the age column\n",
    "\n",
    "Statistics = df[[\"wage\", \"age\"]].describe()\n",
    "print(\"Statistics:\", Statistics)"
   ]
  },
  {
   "cell_type": "code",
   "execution_count": 16,
   "id": "fd5296ae",
   "metadata": {},
   "outputs": [
    {
     "name": "stdout",
     "output_type": "stream",
     "text": [
      "Statistics:             wage                                                           \\\n",
      "           count        mean        std        min        25%         50%   \n",
      "race                                                                        \n",
      "1. White  2480.0  112.563666  41.733830  20.085537  86.695155  106.348256   \n",
      "2. Black   293.0  101.601177  37.162486  23.274704  81.283253   94.072715   \n",
      "3. Asian   190.0  120.288288  46.422514  34.607418  87.981033  115.375039   \n",
      "4. Other    37.0   89.973326  29.153530  38.223583  71.319639   81.283253   \n",
      "\n",
      "                                     age                                     \\\n",
      "                 75%         max   count       mean        std   min    25%   \n",
      "race                                                                          \n",
      "1. White  130.042934  314.329336  2480.0  42.394758  11.365655  18.0  34.00   \n",
      "2. Black  117.146817  318.342430   293.0  43.563140  13.012913  18.0  33.00   \n",
      "3. Asian  144.828129  299.262977   190.0  41.821053  11.218823  22.0  32.25   \n",
      "4. Other  104.921507  169.528538    37.0  37.702703  11.553895  21.0  28.00   \n",
      "\n",
      "                            \n",
      "           50%   75%   max  \n",
      "race                        \n",
      "1. White  42.0  51.0  80.0  \n",
      "2. Black  44.0  52.0  75.0  \n",
      "3. Asian  40.0  50.0  76.0  \n",
      "4. Other  39.0  47.0  65.0  \n"
     ]
    }
   ],
   "source": [
    "#Display descriptive statistics for the wage and age columns, by each race\n",
    "\n",
    "Statistics = df.groupby('race')[[\"wage\", \"age\"]].describe()\n",
    "    \n",
    "print(\"Statistics:\", Statistics)"
   ]
  },
  {
   "cell_type": "code",
   "execution_count": 17,
   "id": "0b500ebc",
   "metadata": {},
   "outputs": [
    {
     "data": {
      "text/plain": [
       "111.70360820174345"
      ]
     },
     "execution_count": 17,
     "metadata": {},
     "output_type": "execute_result"
    }
   ],
   "source": [
    "#What do the mean and median values of wage tell us about the data?\n",
    "\n",
    "df.wage.mean()"
   ]
  },
  {
   "cell_type": "code",
   "execution_count": 18,
   "id": "e09251a8",
   "metadata": {},
   "outputs": [
    {
     "data": {
      "text/plain": [
       "104.921506533664"
      ]
     },
     "execution_count": 18,
     "metadata": {},
     "output_type": "execute_result"
    }
   ],
   "source": [
    "df.wage.median()"
   ]
  },
  {
   "cell_type": "markdown",
   "id": "8ed9ecf6",
   "metadata": {},
   "source": [
    "The average wage for people in this data is 111.70 while the value of median tells us that out of 2999 observations, half of the people have wages less than 104.92. "
   ]
  },
  {
   "cell_type": "code",
   "execution_count": 19,
   "id": "2c28982f",
   "metadata": {},
   "outputs": [
    {
     "data": {
      "text/html": [
       "<div>\n",
       "<style scoped>\n",
       "    .dataframe tbody tr th:only-of-type {\n",
       "        vertical-align: middle;\n",
       "    }\n",
       "\n",
       "    .dataframe tbody tr th {\n",
       "        vertical-align: top;\n",
       "    }\n",
       "\n",
       "    .dataframe thead th {\n",
       "        text-align: right;\n",
       "    }\n",
       "</style>\n",
       "<table border=\"1\" class=\"dataframe\">\n",
       "  <thead>\n",
       "    <tr style=\"text-align: right;\">\n",
       "      <th></th>\n",
       "      <th>age</th>\n",
       "      <th>wage</th>\n",
       "    </tr>\n",
       "  </thead>\n",
       "  <tbody>\n",
       "    <tr>\n",
       "      <th>0</th>\n",
       "      <td>18</td>\n",
       "      <td>75.043154</td>\n",
       "    </tr>\n",
       "    <tr>\n",
       "      <th>1</th>\n",
       "      <td>24</td>\n",
       "      <td>70.476020</td>\n",
       "    </tr>\n",
       "    <tr>\n",
       "      <th>2</th>\n",
       "      <td>45</td>\n",
       "      <td>130.982177</td>\n",
       "    </tr>\n",
       "    <tr>\n",
       "      <th>3</th>\n",
       "      <td>43</td>\n",
       "      <td>154.685293</td>\n",
       "    </tr>\n",
       "    <tr>\n",
       "      <th>4</th>\n",
       "      <td>50</td>\n",
       "      <td>75.043154</td>\n",
       "    </tr>\n",
       "    <tr>\n",
       "      <th>...</th>\n",
       "      <td>...</td>\n",
       "      <td>...</td>\n",
       "    </tr>\n",
       "    <tr>\n",
       "      <th>2995</th>\n",
       "      <td>44</td>\n",
       "      <td>154.685293</td>\n",
       "    </tr>\n",
       "    <tr>\n",
       "      <th>2996</th>\n",
       "      <td>30</td>\n",
       "      <td>99.689464</td>\n",
       "    </tr>\n",
       "    <tr>\n",
       "      <th>2997</th>\n",
       "      <td>27</td>\n",
       "      <td>66.229408</td>\n",
       "    </tr>\n",
       "    <tr>\n",
       "      <th>2998</th>\n",
       "      <td>27</td>\n",
       "      <td>87.981033</td>\n",
       "    </tr>\n",
       "    <tr>\n",
       "      <th>2999</th>\n",
       "      <td>55</td>\n",
       "      <td>90.481913</td>\n",
       "    </tr>\n",
       "  </tbody>\n",
       "</table>\n",
       "<p>3000 rows × 2 columns</p>\n",
       "</div>"
      ],
      "text/plain": [
       "      age        wage\n",
       "0      18   75.043154\n",
       "1      24   70.476020\n",
       "2      45  130.982177\n",
       "3      43  154.685293\n",
       "4      50   75.043154\n",
       "...   ...         ...\n",
       "2995   44  154.685293\n",
       "2996   30   99.689464\n",
       "2997   27   66.229408\n",
       "2998   27   87.981033\n",
       "2999   55   90.481913\n",
       "\n",
       "[3000 rows x 2 columns]"
      ]
     },
     "execution_count": 19,
     "metadata": {},
     "output_type": "execute_result"
    }
   ],
   "source": [
    "#Display the age and wage columns only\n",
    "\n",
    "Column_names = df[['age', 'wage']]\n",
    "Column_names"
   ]
  },
  {
   "cell_type": "code",
   "execution_count": 20,
   "id": "cf9f9301",
   "metadata": {},
   "outputs": [
    {
     "data": {
      "text/plain": [
       "0.1956372015635886"
      ]
     },
     "execution_count": 20,
     "metadata": {},
     "output_type": "execute_result"
    }
   ],
   "source": [
    "#Are these two columns correlated?\n",
    "\n",
    "Correlation = df['age'].corr(df['wage'])\n",
    "Correlation"
   ]
  },
  {
   "cell_type": "markdown",
   "id": "0aa9b828",
   "metadata": {},
   "source": [
    "Positive value here shows that these 2 columns have a correlation that with increase in age, the wage also increases"
   ]
  },
  {
   "cell_type": "code",
   "execution_count": 21,
   "id": "8f0d4626",
   "metadata": {},
   "outputs": [
    {
     "name": "stdout",
     "output_type": "stream",
     "text": [
      "Top 10 salaries are: 206     318.342430\n",
      "1229    318.342430\n",
      "503     314.329336\n",
      "1293    311.934569\n",
      "2712    309.571771\n",
      "1112    309.571771\n",
      "2893    299.262977\n",
      "2925    295.991250\n",
      "489     284.524741\n",
      "347     281.745971\n",
      "Name: wage, dtype: float64\n"
     ]
    }
   ],
   "source": [
    "#Display the top 10 salaries\n",
    "\n",
    "Top_10_Salaries = df.sort_values(by = 'wage' , ascending = False)['wage']. head(10)\n",
    "print(\"Top 10 salaries are:\", Top_10_Salaries)"
   ]
  },
  {
   "cell_type": "code",
   "execution_count": 22,
   "id": "aac01350",
   "metadata": {},
   "outputs": [
    {
     "ename": "NameError",
     "evalue": "name 'race_counts_df' is not defined",
     "output_type": "error",
     "traceback": [
      "\u001b[0;31m---------------------------------------------------------------------------\u001b[0m",
      "\u001b[0;31mNameError\u001b[0m                                 Traceback (most recent call last)",
      "Cell \u001b[0;32mIn[22], line 12\u001b[0m\n\u001b[1;32m      8\u001b[0m         race_count[race] \u001b[38;5;241m=\u001b[39m \u001b[38;5;241m1\u001b[39m\n\u001b[1;32m     10\u001b[0m Each_Race_Count \u001b[38;5;241m=\u001b[39m pd\u001b[38;5;241m.\u001b[39mDataFrame(\u001b[38;5;28mlist\u001b[39m(race_count\u001b[38;5;241m.\u001b[39mitems()), columns\u001b[38;5;241m=\u001b[39m[\u001b[38;5;124m'\u001b[39m\u001b[38;5;124mrace\u001b[39m\u001b[38;5;124m'\u001b[39m, \u001b[38;5;124m'\u001b[39m\u001b[38;5;124mcount\u001b[39m\u001b[38;5;124m'\u001b[39m])\n\u001b[0;32m---> 12\u001b[0m \u001b[38;5;28mprint\u001b[39m(race_counts_df)\n",
      "\u001b[0;31mNameError\u001b[0m: name 'race_counts_df' is not defined"
     ]
    }
   ],
   "source": [
    "#Display the counts of each race in the dataset\n",
    "\n",
    "race_count = {}\n",
    "for race in df['race']:\n",
    "    if race in race_count:\n",
    "        race_count[race] += 1\n",
    "    else:\n",
    "        race_count[race] = 1\n",
    "\n",
    "Each_Race_Count = pd.DataFrame(list(race_count.items()), columns=['race', 'count'])\n",
    "\n",
    "print(race_counts_df)"
   ]
  },
  {
   "cell_type": "code",
   "execution_count": 23,
   "id": "5c2511ed",
   "metadata": {},
   "outputs": [
    {
     "name": "stdout",
     "output_type": "stream",
     "text": [
      "Proportion of each race in the dataset:        race  count  proportion\n",
      "0  1. White   2480    0.826667\n",
      "1  3. Asian    190    0.063333\n",
      "2  4. Other     37    0.012333\n",
      "3  2. Black    293    0.097667\n"
     ]
    }
   ],
   "source": [
    "#Display the proportion of each race in the dataset\n",
    "\n",
    "Total_Records = Each_Race_Count['count'].sum()\n",
    "Each_Race_Count['proportion'] = Each_Race_Count['count'] / Total_Records\n",
    "print(\"Proportion of each race in the dataset:\", Each_Race_Count)\n",
    "\n"
   ]
  },
  {
   "cell_type": "code",
   "execution_count": 26,
   "id": "962a4d98",
   "metadata": {},
   "outputs": [
    {
     "data": {
      "image/png": "[encoded data removed]",
      "text/plain": [
       "<Figure size 1000x600 with 1 Axes>"
      ]
     },
     "metadata": {},
     "output_type": "display_data"
    }
   ],
   "source": [
    "#Create a bar plot of regional proportionalityplt.figure(figsize=(10, 6))\n",
    "plt.bar(Each_Race_Count['race'], Each_Race_Count['proportion'], color='skyblue')\n",
    "\n",
    "plt.xlabel('Race')\n",
    "plt.ylabel('Proportion')\n",
    "plt.title('Proportion of Each Race in the Data')\n",
    "\n",
    "plt.xticks(rotation=45)\n",
    "\n",
    "plt.show()"
   ]
  },
  {
   "cell_type": "code",
   "execution_count": null,
   "id": "01560cb9",
   "metadata": {},
   "outputs": [],
   "source": []
  }
 ],
 "metadata": {
  "kernelspec": {
   "display_name": "Python 3 (ipykernel)",
   "language": "python",
   "name": "python3"
  },
  "language_info": {
   "codemirror_mode": {
    "name": "ipython",
    "version": 3
   },
   "file_extension": ".py",
   "mimetype": "text/x-python",
   "name": "python",
   "nbconvert_exporter": "python",
   "pygments_lexer": "ipython3",
   "version": "3.11.5"
  }
 },
 "nbformat": 4,
 "nbformat_minor": 5
}
