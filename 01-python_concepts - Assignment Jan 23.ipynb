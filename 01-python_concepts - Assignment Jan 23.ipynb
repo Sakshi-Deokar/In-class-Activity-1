{
 "cells": [
  {
   "cell_type": "markdown",
   "id": "9383bafa",
   "metadata": {},
   "source": [
    "### Python Programming Concepts"
   ]
  },
  {
   "cell_type": "markdown",
   "id": "17df7d6e",
   "metadata": {},
   "source": [
    "#### 1. Create a variable to store the value 500 for sales"
   ]
  },
  {
   "cell_type": "code",
   "execution_count": 1,
   "id": "a5f43c2f",
   "metadata": {},
   "outputs": [
    {
     "data": {
      "text/plain": [
       "500"
      ]
     },
     "execution_count": 1,
     "metadata": {},
     "output_type": "execute_result"
    }
   ],
   "source": [
    "Sales = 500\n",
    "Sales"
   ]
  },
  {
   "cell_type": "markdown",
   "id": "6dc8b9ea",
   "metadata": {},
   "source": [
    "#### 2. Create a variable to store several values:  \n",
    "* sales: 500, 475, 625\n",
    "* integers 1 - 9 "
   ]
  },
  {
   "cell_type": "code",
   "execution_count": 3,
   "id": "902fe3bd",
   "metadata": {},
   "outputs": [
    {
     "data": {
      "text/plain": [
       "[1, 2, 3, 4, 5, 6, 7, 8, 9]"
      ]
     },
     "execution_count": 3,
     "metadata": {},
     "output_type": "execute_result"
    }
   ],
   "source": [
    "sales = [500, 475, 625]\n",
    "sales\n",
    "sales_integers = [1,2,3,4,5,6,7,8,9]\n",
    "sales_integers\n"
   ]
  },
  {
   "cell_type": "markdown",
   "id": "62e55953",
   "metadata": {},
   "source": [
    "#### 3. Create a variable to store the names and email addresses for a number of customers\n",
    "* John, john@some.com; Ann, ann@some.com"
   ]
  },
  {
   "cell_type": "code",
   "execution_count": 4,
   "id": "03f2b161",
   "metadata": {},
   "outputs": [
    {
     "data": {
      "text/plain": [
       "[{'name': 'John', 'email': 'john@some.com'},\n",
       " {'name': 'Ann', 'email': 'annn@some.com'}]"
      ]
     },
     "execution_count": 4,
     "metadata": {},
     "output_type": "execute_result"
    }
   ],
   "source": [
    "Variable = [{'name' : 'John', 'email' : 'john@some.com'},{'name' : 'Ann', 'email' : 'annn@some.com'}]\n",
    "Variable"
   ]
  },
  {
   "cell_type": "markdown",
   "id": "d6b1e8c6",
   "metadata": {},
   "source": [
    "#### 4. Use Python to generate a random value based on each of following:\n",
    "1. between 0 and 1\n",
    "2. the standard normal distribution (rounded to two decimal places)\n",
    "3. a value between 1 and 10\n",
    "4. either H or T"
   ]
  },
  {
   "cell_type": "code",
   "execution_count": 64,
   "id": "f004d7b5",
   "metadata": {},
   "outputs": [
    {
     "data": {
      "text/plain": [
       "0.7780496050173228"
      ]
     },
     "execution_count": 64,
     "metadata": {},
     "output_type": "execute_result"
    }
   ],
   "source": [
    "import random\n",
    "\n",
    "x = random.random()\n",
    "x"
   ]
  },
  {
   "cell_type": "code",
   "execution_count": 67,
   "id": "a8efc6fc",
   "metadata": {},
   "outputs": [
    {
     "data": {
      "text/plain": [
       "-0.32535291386054976"
      ]
     },
     "execution_count": 67,
     "metadata": {},
     "output_type": "execute_result"
    }
   ],
   "source": [
    "random.gauss(0,1)"
   ]
  },
  {
   "cell_type": "code",
   "execution_count": 63,
   "id": "1a29e601",
   "metadata": {},
   "outputs": [
    {
     "data": {
      "text/plain": [
       "4"
      ]
     },
     "execution_count": 63,
     "metadata": {},
     "output_type": "execute_result"
    }
   ],
   "source": [
    "import random\n",
    "\n",
    "y = random.randint(1,10)\n",
    "y"
   ]
  },
  {
   "cell_type": "code",
   "execution_count": 69,
   "id": "3a150c3e",
   "metadata": {},
   "outputs": [
    {
     "data": {
      "text/plain": [
       "'H'"
      ]
     },
     "execution_count": 69,
     "metadata": {},
     "output_type": "execute_result"
    }
   ],
   "source": [
    "random.choice(['H','T'])"
   ]
  },
  {
   "cell_type": "markdown",
   "id": "7eddf06a",
   "metadata": {},
   "source": [
    "#### 5. Use Python to determine your current working directory"
   ]
  },
  {
   "cell_type": "code",
   "execution_count": 6,
   "id": "d8f79474",
   "metadata": {},
   "outputs": [
    {
     "data": {
      "text/plain": [
       "'/Users/sakshideokar/Documents/Python Classwork'"
      ]
     },
     "execution_count": 6,
     "metadata": {},
     "output_type": "execute_result"
    }
   ],
   "source": [
    "import os\n",
    "os.getcwd()\n",
    "\n",
    "#os.listdir() #see all the files in that directory\n",
    "#os.chdir('..') #to change directory\n",
    "#os.makdir()#to make the directory"
   ]
  },
  {
   "cell_type": "markdown",
   "id": "fc43ec50",
   "metadata": {},
   "source": [
    "#### 6. Use Python to determine how many days until New Year's Day"
   ]
  },
  {
   "cell_type": "code",
   "execution_count": 7,
   "id": "13f630fe",
   "metadata": {},
   "outputs": [
    {
     "data": {
      "text/plain": [
       "datetime.timedelta(days=345)"
      ]
     },
     "execution_count": 7,
     "metadata": {},
     "output_type": "execute_result"
    }
   ],
   "source": [
    "import datetime as dt\n",
    "today = dt.date.today()\n",
    "\n",
    "NY = dt.date(2025, 1,1)\n",
    "\n",
    "NY - today"
   ]
  },
  {
   "cell_type": "markdown",
   "id": "2ba4ea92",
   "metadata": {},
   "source": [
    "#### 7. Write a short program that displays the future value of 1,000 earning 5%  at the end of each year for the next 5 years"
   ]
  },
  {
   "cell_type": "code",
   "execution_count": 25,
   "id": "6fef4a8c",
   "metadata": {},
   "outputs": [
    {
     "name": "stdout",
     "output_type": "stream",
     "text": [
      "Year           ,      Value\n",
      "-------------------------\n",
      "1              1,500.00\n",
      "2              2,250.00\n",
      "3              3,375.00\n",
      "4              5,062.50\n",
      "5              7,593.75\n"
     ]
    }
   ],
   "source": [
    "p = 1000\n",
    "r = 0.5\n",
    "t = 5\n",
    "print(f\"{'Year':<15}, {'Value':>10}\")\n",
    "print('-' * 25)\n",
    "for year in range(1, t + 1):\n",
    "    print(f\"{year:<15}{p * (1 + r) ** year:>,.2f}\")"
   ]
  },
  {
   "cell_type": "markdown",
   "id": "150201c8",
   "metadata": {},
   "source": [
    "#### 8. Write a short program that prompts a user to enter a stock symbol and press enter. Add each symbol entered to a variable. The program should run until the user presses the enter key without entering anything (empty string) "
   ]
  },
  {
   "cell_type": "code",
   "execution_count": 26,
   "id": "931a346f",
   "metadata": {},
   "outputs": [
    {
     "name": "stdout",
     "output_type": "stream",
     "text": [
      "Enter stock symbol or press enter to quit: r\n",
      "Enter stock symbol or press enter to quit: w\n",
      "Enter stock symbol or press enter to quit: \n",
      "['r', 'w']\n"
     ]
    }
   ],
   "source": [
    "stocks = []\n",
    "while True:\n",
    "    symbol = input(\"Enter stock symbol or press enter to quit: \")\n",
    "    if symbol == '':\n",
    "        break\n",
    "    stocks.append(symbol)\n",
    "print(stocks)    "
   ]
  },
  {
   "cell_type": "markdown",
   "id": "fc2a7592",
   "metadata": {},
   "source": [
    "#### 9. Write the code necessary to calculate the sum of the square differences of a group of values : \n",
    "58, 32, 37, 41, 36, 36, 54, 37, 25, 53\n",
    "##### $\\Sigma $(${x}$ - $\\bar{x}$)$^2$"
   ]
  },
  {
   "cell_type": "markdown",
   "id": "89a7db2f",
   "metadata": {},
   "source": []
  },
  {
   "cell_type": "code",
   "execution_count": 4,
   "id": "39f8d133",
   "metadata": {},
   "outputs": [
    {
     "name": "stdout",
     "output_type": "stream",
     "text": [
      "Sum of the square differences: 1020.9000000000001\n"
     ]
    }
   ],
   "source": [
    "values = [58, 32, 37, 41, 36, 36, 54, 37, 25, 53]\n",
    "\n",
    "mean = sum(values) / len(values)\n",
    "\n",
    "sum_of_the_square_differences = 0\n",
    "for x in values:\n",
    "    sum_of_the_square_differences += (x - mean) ** 2\n",
    "\n",
    "print(\"Sum of the square differences:\", sum_of_the_square_differences)\n"
   ]
  },
  {
   "cell_type": "markdown",
   "id": "6d6f2e64",
   "metadata": {},
   "source": [
    "#### 10. Opening, reading and writing files"
   ]
  },
  {
   "cell_type": "code",
   "execution_count": null,
   "id": "f7fa569d",
   "metadata": {},
   "outputs": [],
   "source": [
    "file = open('Python.csv')  "
   ]
  },
  {
   "cell_type": "code",
   "execution_count": null,
   "id": "6da7f506",
   "metadata": {},
   "outputs": [],
   "source": [
    "file = open('Python.csv', 'r') "
   ]
  },
  {
   "cell_type": "code",
   "execution_count": null,
   "id": "c7a336f5",
   "metadata": {},
   "outputs": [],
   "source": [
    "file = open('Python.csv', 'w') "
   ]
  },
  {
   "cell_type": "markdown",
   "id": "eec548d6",
   "metadata": {},
   "source": [
    "#### 11. Create a function the will simulate rolling two die and return the value of each and and the sum "
   ]
  },
  {
   "cell_type": "code",
   "execution_count": 6,
   "id": "bb115cdc",
   "metadata": {},
   "outputs": [
    {
     "name": "stdout",
     "output_type": "stream",
     "text": [
      "Die 1: 1\n",
      "Die 2: 4\n",
      "Sum of Dice: 5\n"
     ]
    }
   ],
   "source": [
    "import random\n",
    "\n",
    "def roll():\n",
    "    die1 = random.randint(1, 6)\n",
    "    die2 = random.randint(1, 6)\n",
    "    total = die1 + die2\n",
    "    return die1, die2, total\n",
    "\n",
    "die1_value, die2_value, sum_of_dice = roll()\n",
    "\n",
    "print(f\"Die 1: {die1_value}\")\n",
    "print(f\"Die 2: {die2_value}\")\n",
    "print(f\"Sum of Dice: {sum_of_dice}\")\n"
   ]
  },
  {
   "cell_type": "markdown",
   "id": "21556d7f",
   "metadata": {},
   "source": [
    "#### 12. Write the code needed to evaluate whether a value in a group of values is negative or postive and prints an approriate message, i.e. postive, negative \n",
    "-1.59, 2.36, 1.69, 1.13, -0.91, 1.48, -0.34, 1.31, -0.74, 0.2"
   ]
  },
  {
   "cell_type": "code",
   "execution_count": 7,
   "id": "d6c38ecb",
   "metadata": {},
   "outputs": [
    {
     "name": "stdout",
     "output_type": "stream",
     "text": [
      "-1.59 is negative\n",
      "2.36 is positive\n",
      "1.69 is positive\n",
      "1.13 is positive\n",
      "-0.91 is negative\n",
      "1.48 is positive\n",
      "-0.34 is negative\n",
      "1.31 is positive\n",
      "-0.74 is negative\n",
      "0.20 is positive\n"
     ]
    }
   ],
   "source": [
    "def evaluate(values):\n",
    "    for value in values:\n",
    "        if value < 0:\n",
    "            print(f'{value:.2f} is negative')\n",
    "        elif value > 0:\n",
    "            print(f'{value:.2f} is positive')\n",
    "        else:\n",
    "            print(f'{value:.2f} is zero')\n",
    "\n",
    "Values = [-1.59, 2.36, 1.69, 1.13, -0.91, 1.48, -0.34, 1.31, -0.74, 0.2]\n",
    "\n",
    "# Call the function to evaluate and print the messages\n",
    "evaluate(Values)\n"
   ]
  },
  {
   "cell_type": "markdown",
   "id": "8cafe65c",
   "metadata": {},
   "source": [
    "#### 14.  Complete the following:\n",
    "1. Write a program that generates 500 random integers from 1 to n, for example, the first integer will be 1 the second will be 1 or 2, the fifth between 1 and 5, and so on.\n",
    "2. The program should write each integer to a file \n",
    "3. Once all integers are written close the file\n",
    "\n",
    "##### Part 2\n",
    "1. Open and read the file into a list\n",
    "2. Create a line plot of the data"
   ]
  },
  {
   "cell_type": "code",
   "execution_count": 20,
   "id": "60a910bb",
   "metadata": {},
   "outputs": [],
   "source": [
    "import random\n",
    "\n",
    "n = 500\n",
    "\n",
    "random_integers = [random.randint(1, n) for _ in range(500)]"
   ]
  },
  {
   "cell_type": "code",
   "execution_count": 21,
   "id": "d6b4180c",
   "metadata": {},
   "outputs": [
    {
     "name": "stdout",
     "output_type": "stream",
     "text": [
      "Random integers written to 'Integers.csv'.\n"
     ]
    }
   ],
   "source": [
    "file = open(\"Integers.csv\", \"w\")\n",
    "\n",
    "file.write('\\n'.join(map(str, random_integers)))\n",
    "\n",
    "file.close()\n",
    "\n",
    "print(\"Random integers written to 'Integers.csv'.\")"
   ]
  },
  {
   "cell_type": "markdown",
   "id": "d5aa2749",
   "metadata": {},
   "source": [
    "Part 2 "
   ]
  },
  {
   "cell_type": "code",
   "execution_count": 22,
   "id": "6745da79",
   "metadata": {},
   "outputs": [],
   "source": [
    "file = open(\"Integers.csv\", \"r\")\n",
    "lines = file.readlines()\n",
    "\n",
    "# Convert the lines to a list of integers\n",
    "data = [int(line.strip()) for line in lines]\n"
   ]
  },
  {
   "cell_type": "code",
   "execution_count": 28,
   "id": "21140445",
   "metadata": {},
   "outputs": [
    {
     "data": {
      "image/png": "[encoded data removed]",
      "text/plain": [
       "<Figure size 640x480 with 1 Axes>"
      ]
     },
     "metadata": {},
     "output_type": "display_data"
    }
   ],
   "source": [
    "import matplotlib.pyplot as plt\n",
    "x = range(1, len(data) + 1)\n",
    "plt.plot(x, data, label=\"Random Integers\")\n",
    "plt.xlabel(\"Index\")\n",
    "plt.ylabel(\"Value\")\n",
    "plt.title(\"Line Plot of Random Integers\")\n",
    "plt.legend()\n",
    "plt.show()\n"
   ]
  },
  {
   "cell_type": "code",
   "execution_count": 30,
   "id": "3d546600",
   "metadata": {},
   "outputs": [],
   "source": [
    "file.close()"
   ]
  }
 ],
 "metadata": {
  "kernelspec": {
   "display_name": "Python 3 (ipykernel)",
   "language": "python",
   "name": "python3"
  },
  "language_info": {
   "codemirror_mode": {
    "name": "ipython",
    "version": 3
   },
   "file_extension": ".py",
   "mimetype": "text/x-python",
   "name": "python",
   "nbconvert_exporter": "python",
   "pygments_lexer": "ipython3",
   "version": "3.11.5"
  }
 },
 "nbformat": 4,
 "nbformat_minor": 5
}
