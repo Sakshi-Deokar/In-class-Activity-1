{
 "cells": [
  {
   "cell_type": "markdown",
   "id": "c441e4ca",
   "metadata": {},
   "source": [
    "# Assignment 2\n",
    "* In this assignment you will be working with three data files from iMDB:\n",
    "    * cast.csv\n",
    "    * release_dates.csv\n",
    "    * titles.csv\n",
    "* Using the appropriate file(s), answer the following questions\n",
    "* Some questions can be completed with one-liners while others are a bit more involved\n",
    "* Where appropriate, answers should also provide brief commentary\n",
    "* Exclude data that doen't make senss, i.e. data from the future\n",
    "* Once complete upload this notebook to your classwork Github repo and post the link on Canvas "
   ]
  },
  {
   "cell_type": "code",
   "execution_count": 77,
   "id": "f4594546",
   "metadata": {},
   "outputs": [],
   "source": [
    "import pandas as pd\n",
    "import matplotlib.pyplot as plt\n",
    "import seaborn as sns\n",
    "\n",
    "cast_df = pd.read_csv('/Users/sakshideokar/Downloads/Archive (1)/cast.csv')\n",
    "release_dates_df = pd.read_csv('/Users/sakshideokar/Downloads/Archive (1)/release_dates.csv')\n",
    "titles_df = pd.read_csv('/Users/sakshideokar/Downloads/Archive (1)/titles.csv')"
   ]
  },
  {
   "cell_type": "markdown",
   "id": "7f3efd04",
   "metadata": {},
   "source": [
    "### 1. Conduct a high level assessment of the three data files, i.e. how many records are there, what kind of data, etc. Summarize your findings with annotation. "
   ]
  },
  {
   "cell_type": "code",
   "execution_count": 54,
   "id": "03bc8314",
   "metadata": {},
   "outputs": [
    {
     "name": "stdout",
     "output_type": "stream",
     "text": [
      "Summary of Data Files:\n",
      "\n",
      "cast.csv:\n",
      "Number of records: 3442890\n",
      "Number of columns: 7\n",
      "Data Types:\n",
      "title         object\n",
      "year           int64\n",
      "name          object\n",
      "type          object\n",
      "character     object\n",
      "n            float64\n",
      "decade         int64\n",
      "dtype: object\n",
      "\n",
      "release_dates.csv:\n",
      "Number of records: 443486\n",
      "Number of columns: 6\n",
      "Data Types:\n",
      "title                  object\n",
      "year                    int64\n",
      "country                object\n",
      "date           datetime64[ns]\n",
      "day_of_week            object\n",
      "month                  object\n",
      "dtype: object\n",
      "\n",
      "titles.csv:\n",
      "Number of records: 226005\n",
      "Number of columns: 3\n",
      "Data Types:\n",
      "title     object\n",
      "year       int64\n",
      "decade     int64\n",
      "dtype: object\n",
      "\n",
      "The range of years covered in the CSV files is from 1894 to 2115\n"
     ]
    }
   ],
   "source": [
    "# Get the number of records in each file\n",
    "cast_records = len(cast)\n",
    "release_dates_records = len(release_dates)\n",
    "titles_records = len(titles)\n",
    "\n",
    "# Get the number of columns in each file\n",
    "cast_columns = len(cast.columns)\n",
    "release_dates_columns = len(release_dates.columns)\n",
    "titles_columns = len(titles.columns)\n",
    "\n",
    "# Get data types of columns\n",
    "cast_datatypes = cast.dtypes\n",
    "release_dates_datatypes = release_dates.dtypes\n",
    "titles_datatypes = titles.dtypes\n",
    "\n",
    "# Summarize findings\n",
    "print(\"Summary of Data Files:\")\n",
    "print(\"\")\n",
    "\n",
    "print(\"cast.csv:\")\n",
    "print(\"Number of records:\", cast_records)\n",
    "print(\"Number of columns:\", cast_columns)\n",
    "print(\"Data Types:\")\n",
    "print(cast_datatypes)\n",
    "print(\"\")\n",
    "\n",
    "print(\"release_dates.csv:\")\n",
    "print(\"Number of records:\", release_dates_records)\n",
    "print(\"Number of columns:\", release_dates_columns)\n",
    "print(\"Data Types:\")\n",
    "print(release_dates_datatypes)\n",
    "print(\"\")\n",
    "\n",
    "print(\"titles.csv:\")\n",
    "print(\"Number of records:\", titles_records)\n",
    "print(\"Number of columns:\", titles_columns)\n",
    "print(\"Data Types:\")\n",
    "print(titles_datatypes)\n",
    "print(\"\")\n",
    "\n",
    "# Extract the minimum and maximum years from each DataFrame\n",
    "min_year_cast = cast['year'].min()\n",
    "max_year_cast = cast['year'].max()\n",
    "\n",
    "min_year_release_dates = release_dates['year'].min()\n",
    "max_year_release_dates = release_dates['year'].max()\n",
    "\n",
    "min_year_titles = titles['year'].min()\n",
    "max_year_titles = titles['year'].max()\n",
    "\n",
    "# Determine the overall range of years\n",
    "min_year = min(min_year_cast, min_year_release_dates, min_year_titles)\n",
    "max_year = max(max_year_cast, max_year_release_dates, max_year_titles)\n",
    "\n",
    "# Print the range of years\n",
    "print(\"The range of years covered in the CSV files is from\", min_year, \"to\", max_year)"
   ]
  },
  {
   "cell_type": "markdown",
   "id": "8949aee1",
   "metadata": {},
   "source": [
    "### 2. How many movies have the title North by Northwest"
   ]
  },
  {
   "cell_type": "code",
   "execution_count": 55,
   "id": "712cba84",
   "metadata": {},
   "outputs": [
    {
     "name": "stdout",
     "output_type": "stream",
     "text": [
      "The number of movies with the title 'North by Northwest' in the dataset is: 1\n"
     ]
    }
   ],
   "source": [
    "# Filter the DataFrame to retrieve entries with the title \"North by Northwest\"\n",
    "north_by_northwest_movies = titles[titles['title'] == 'North by Northwest']\n",
    "\n",
    "# Count the number of movies with the title \"North by Northwest\"\n",
    "num_north_by_northwest_movies = len(north_by_northwest_movies)\n",
    "\n",
    "# Print a descriptive annotation indicating the count of movies with the title \"North by Northwest\"\n",
    "print(\"The number of movies with the title 'North by Northwest' in the dataset is:\", num_north_by_northwest_movies)"
   ]
  },
  {
   "cell_type": "markdown",
   "id": "651191f3",
   "metadata": {},
   "source": [
    "### 3. How many version of Hamlet are there, when was the first made? the last?"
   ]
  },
  {
   "cell_type": "code",
   "execution_count": 56,
   "id": "1e421672",
   "metadata": {},
   "outputs": [
    {
     "name": "stdout",
     "output_type": "stream",
     "text": [
      "Analysis of Hamlet Versions:\n",
      "\n",
      "Number of versions of Hamlet: 20\n",
      "\n",
      "Details:\n",
      "- The first version of Hamlet was made in: 1910\n",
      "- The last version of Hamlet was made in: 2017\n"
     ]
    }
   ],
   "source": [
    "# Filter the DataFrame to retrieve entries with the title \"Hamlet\"\n",
    "hamlet_movies = titles[titles['title'] == 'Hamlet']\n",
    "\n",
    "# Count the number of versions of Hamlet\n",
    "num_hamlet_versions = len(hamlet_movies)\n",
    "\n",
    "# Find the release year of the first version of Hamlet\n",
    "first_hamlet_year = hamlet_movies['year'].min()\n",
    "\n",
    "# Find the release year of the last version of Hamlet\n",
    "last_hamlet_year = hamlet_movies['year'].max()\n",
    "\n",
    "# Print a descriptive annotation for the findings\n",
    "print(\"Analysis of Hamlet Versions:\")\n",
    "print(\"\")\n",
    "\n",
    "print(\"Number of versions of Hamlet:\", num_hamlet_versions)\n",
    "print(\"\")\n",
    "\n",
    "print(\"Details:\")\n",
    "print(\"- The first version of Hamlet was made in:\", first_hamlet_year)\n",
    "print(\"- The last version of Hamlet was made in:\", last_hamlet_year)"
   ]
  },
  {
   "cell_type": "markdown",
   "id": "5650b610",
   "metadata": {},
   "source": [
    "### 4. List all the movies called Treasure Island from oldest to newest"
   ]
  },
  {
   "cell_type": "code",
   "execution_count": 57,
   "id": "636611d9",
   "metadata": {},
   "outputs": [
    {
     "name": "stdout",
     "output_type": "stream",
     "text": [
      "List of movies titled 'Treasure Island' from oldest to newest:\n",
      "\n",
      "Treasure Island (1918)\n",
      "Treasure Island (1920)\n",
      "Treasure Island (1934)\n",
      "Treasure Island (1950)\n",
      "Treasure Island (1972)\n",
      "Treasure Island (1973)\n",
      "Treasure Island (1985)\n",
      "Treasure Island (1999)\n"
     ]
    }
   ],
   "source": [
    "# Filter the DataFrame to retrieve entries with the title \"Treasure Island\"\n",
    "treasure_island_movies = titles[titles['title'] == 'Treasure Island']\n",
    "\n",
    "# Sort the filtered DataFrame by release year in ascending order to list movies from oldest to newest\n",
    "treasure_island_movies_sorted = treasure_island_movies.sort_values(by='year', ascending=True)\n",
    "\n",
    "# Print a descriptive annotation for the findings\n",
    "print(\"List of movies titled 'Treasure Island' from oldest to newest:\")\n",
    "print(\"\")\n",
    "\n",
    "# Iterate through each row in the sorted DataFrame to print movie titles and release years\n",
    "for index, movie in treasure_island_movies_sorted.iterrows():\n",
    "    print(f\"{movie['title']} ({movie['year']})\")\n"
   ]
  },
  {
   "cell_type": "markdown",
   "id": "a94f4524",
   "metadata": {},
   "source": [
    "### 5. How many movies were made in 1950? 1980? 2000? What conclusions can you draw from these data points?"
   ]
  },
  {
   "cell_type": "code",
   "execution_count": 58,
   "id": "8d44bdb2",
   "metadata": {},
   "outputs": [
    {
     "name": "stdout",
     "output_type": "stream",
     "text": [
      "Number of movies made in each year:\n",
      "\n",
      "1950: 1109\n",
      "1980: 1750\n",
      "2000: 2568\n",
      "\n",
      "Conclusions:\n",
      "\n",
      "2000 had the highest number of movies.\n",
      "Percentage change in the number of movies:\n",
      "\n",
      "From 1950 to 1980: 57.79981965734896 %\n",
      "From 1980 to 2000: 46.74285714285714 %\n",
      "Though year 2000 has the highest number of movies, but when compared years over years change, we see that there was more increase in number of movies from 1950 to 1980 as compared to 1980 to 2000\n"
     ]
    }
   ],
   "source": [
    "# Filter the DataFrame to retrieve entries with the release year 1950, 1980, and 2000\n",
    "movies_1950 = titles[titles['year'] == 1950]\n",
    "movies_1980 = titles[titles['year'] == 1980]\n",
    "movies_2000 = titles[titles['year'] == 2000]\n",
    "\n",
    "# Count the number of movies made in each year\n",
    "num_movies_1950 = len(movies_1950)\n",
    "num_movies_1980 = len(movies_1980)\n",
    "num_movies_2000 = len(movies_2000)\n",
    "\n",
    "# Print a descriptive annotation for the findings\n",
    "print(\"Number of movies made in each year:\")\n",
    "print(\"\")\n",
    "\n",
    "print(\"1950:\", num_movies_1950)\n",
    "print(\"1980:\", num_movies_1980)\n",
    "print(\"2000:\", num_movies_2000)\n",
    "print(\"\")\n",
    "\n",
    "# Analyze the data points and draw conclusions\n",
    "print(\"Conclusions:\")\n",
    "print(\"\")\n",
    "\n",
    "if num_movies_1950 > num_movies_1980 and num_movies_1950 > num_movies_2000:\n",
    "    print(\"1950 had the highest number of movies.\")\n",
    "elif num_movies_1980 > num_movies_1950 and num_movies_1980 > num_movies_2000:\n",
    "    print(\"1980 had the highest number of movies.\")\n",
    "elif num_movies_2000 > num_movies_1950 and num_movies_2000 > num_movies_1980:\n",
    "    print(\"2000 had the highest number of movies.\")\n",
    "else:\n",
    "    print(\"There is no clear trend in the number of movies made in each year.\")\n",
    "    \n",
    "    # Calculate the percentage change in the number of movies from 1950 to 1980\n",
    "percentage_change_1950_to_1980 = ((num_movies_1980 - num_movies_1950) / num_movies_1950) * 100\n",
    "\n",
    "# Calculate the percentage change in the number of movies from 1980 to 2000\n",
    "percentage_change_1980_to_2000 = ((num_movies_2000 - num_movies_1980) / num_movies_1980) * 100\n",
    "\n",
    "# Print the calculated percentage changes\n",
    "print(\"Percentage change in the number of movies:\")\n",
    "print(\"\")\n",
    "\n",
    "print(\"From 1950 to 1980:\", percentage_change_1950_to_1980, \"%\")\n",
    "print(\"From 1980 to 2000:\", percentage_change_1980_to_2000, \"%\")\n",
    "\n",
    "print(\"Though year 2000 has the highest number of movies, but when compared years over years change, we see that there was more increase in number of movies from 1950 to 1980 as compared to 1980 to 2000\")\n"
   ]
  },
  {
   "cell_type": "markdown",
   "id": "0c34799c",
   "metadata": {},
   "source": [
    "### 6. How big was the cast of Metropolis\n"
   ]
  },
  {
   "cell_type": "code",
   "execution_count": 59,
   "id": "4461cc46",
   "metadata": {},
   "outputs": [
    {
     "name": "stdout",
     "output_type": "stream",
     "text": [
      "The size of the cast of the movie 'Metropolis' is: 33\n"
     ]
    }
   ],
   "source": [
    "# Filter the 'cast' DataFrame to retrieve entries for the movie 'Metropolis'\n",
    "metropolis_cast = cast[cast['title'] == 'Metropolis']\n",
    "\n",
    "# Count the number of entries in the filtered DataFrame, which represents the size of the cast\n",
    "cast_size_metropolis = len(metropolis_cast)\n",
    "\n",
    "# Print a descriptive annotation for the findings\n",
    "print(\"The size of the cast of the movie 'Metropolis' is:\", cast_size_metropolis)\n"
   ]
  },
  {
   "cell_type": "markdown",
   "id": "7dead3d7",
   "metadata": {},
   "source": [
    "### 7. How many roles for actors were there 1950's? 1990's"
   ]
  },
  {
   "cell_type": "code",
   "execution_count": 60,
   "id": "9f7336d3",
   "metadata": {},
   "outputs": [
    {
     "name": "stdout",
     "output_type": "stream",
     "text": [
      "Number of roles for actors in the 1950s: 124490\n",
      "Number of roles for actors in the 1990s: 191079\n"
     ]
    }
   ],
   "source": [
    "# Filter the 'cast' DataFrame to retrieve entries for movies released in the 1950s\n",
    "roles_1950s = cast[(cast['year'] >= 1950) & (cast['year'] < 1960)]\n",
    "\n",
    "# Count the number of unique roles played by actors in the 1950s\n",
    "num_roles_1950s = len(roles_1950s['character'].unique())\n",
    "\n",
    "# Filter the 'cast' DataFrame to retrieve entries for movies released in the 1990s\n",
    "roles_1990s = cast[(cast['year'] >= 1990) & (cast['year'] < 2000)]\n",
    "\n",
    "# Count the number of unique roles played by actors in the 1990s\n",
    "num_roles_1990s = len(roles_1990s['character'].unique())\n",
    "\n",
    "# Print a descriptive annotation for the findings\n",
    "print(\"Number of roles for actors in the 1950s:\", num_roles_1950s)\n",
    "print(\"Number of roles for actors in the 1990s:\", num_roles_1990s)\n"
   ]
  },
  {
   "cell_type": "markdown",
   "id": "3c5ad9f2",
   "metadata": {},
   "source": [
    "### 8. How many roles for actors & actresses over time? Output should be a line graph"
   ]
  },
  {
   "cell_type": "code",
   "execution_count": 61,
   "id": "a4401c78",
   "metadata": {},
   "outputs": [
    {
     "data": {
      "image/png": "[encoded data removed]",
      "text/plain": [
       "<Figure size 1000x600 with 1 Axes>"
      ]
     },
     "metadata": {},
     "output_type": "display_data"
    }
   ],
   "source": [
    "# Filter the 'cast' DataFrame to consider data until February 2024\n",
    "cast = cast[cast['year'] <= 2024]\n",
    "\n",
    "# Group the data by year and actor/actress, and count the number of unique roles\n",
    "roles_over_time = cast.groupby(['year', 'type'])['character'].nunique().unstack()\n",
    "\n",
    "# Plot the data on a line graph\n",
    "plt.figure(figsize=(10, 6))\n",
    "plt.plot(roles_over_time.index, roles_over_time['actor'], marker='o', label='Actor', color='blue')\n",
    "plt.plot(roles_over_time.index, roles_over_time['actress'], marker='o', label='Actress', color='orange')\n",
    "\n",
    "# Set the title and labels\n",
    "plt.title('Number of Roles for Actors & Actresses Over Time')\n",
    "plt.xlabel('Year')\n",
    "plt.ylabel('Number of Unique Roles')\n",
    "plt.legend(title='Type', loc='upper left')\n",
    "\n",
    "# Add gridlines and adjust layout\n",
    "plt.grid(True)\n",
    "plt.tight_layout()\n",
    "\n",
    "# Show the plot\n",
    "plt.show()"
   ]
  },
  {
   "cell_type": "markdown",
   "id": "5e3a04c7",
   "metadata": {},
   "source": [
    "### 9. How many \"leading roles\" were there in the 2000's?"
   ]
  },
  {
   "cell_type": "code",
   "execution_count": 62,
   "id": "01cc5e7f",
   "metadata": {},
   "outputs": [
    {
     "name": "stdout",
     "output_type": "stream",
     "text": [
      "The range of years covered in the CSV files is from 1894 to 2115\n"
     ]
    }
   ],
   "source": [
    "# Extract the minimum and maximum years from each DataFrame\n",
    "min_year_cast = cast['year'].min()\n",
    "max_year_cast = cast['year'].max()\n",
    "\n",
    "min_year_release_dates = release_dates['year'].min()\n",
    "max_year_release_dates = release_dates['year'].max()\n",
    "\n",
    "min_year_titles = titles['year'].min()\n",
    "max_year_titles = titles['year'].max()\n",
    "\n",
    "# Determine the overall range of years\n",
    "min_year = min(min_year_cast, min_year_release_dates, min_year_titles)\n",
    "max_year = max(max_year_cast, max_year_release_dates, max_year_titles)\n",
    "\n",
    "# Print the range of years\n",
    "print(\"The range of years covered in the CSV files is from\", min_year, \"to\", max_year)"
   ]
  },
  {
   "cell_type": "markdown",
   "id": "a60c91b4",
   "metadata": {},
   "source": [
    "### 10. How many roles received no ranking in the 2000's? 1950's. What conclusions can you draw from these two data points?"
   ]
  },
  {
   "cell_type": "code",
   "execution_count": 63,
   "id": "4b729250",
   "metadata": {},
   "outputs": [
    {
     "name": "stdout",
     "output_type": "stream",
     "text": [
      "Number of roles with no ranking in the 2000s: 232037\n",
      "Number of roles with no ranking in the 1950s: 95406\n",
      "\n",
      "There were more roles with no ranking in the 2000s compared to the 1950s.\n"
     ]
    }
   ],
   "source": [
    "# Filter the 'cast' DataFrame to consider roles in the 2000s and 1950s\n",
    "roles_2000s = cast[(cast['year'] >= 2000) & (cast['year'] < 2010)]\n",
    "roles_1950s = cast[(cast['year'] >= 1950) & (cast['year'] < 1960)]\n",
    "\n",
    "# Count the number of roles with no ranking in the 2000s and 1950s\n",
    "no_ranking_2000s = roles_2000s['n'].isna().sum()\n",
    "no_ranking_1950s = roles_1950s['n'].isna().sum()\n",
    "\n",
    "# Print a descriptive annotation for the findings\n",
    "print(\"Number of roles with no ranking in the 2000s:\", no_ranking_2000s)\n",
    "print(\"Number of roles with no ranking in the 1950s:\", no_ranking_1950s)\n",
    "print()\n",
    "\n",
    "# Draw conclusions\n",
    "if no_ranking_2000s > no_ranking_1950s:\n",
    "    print(\"There were more roles with no ranking in the 2000s compared to the 1950s.\")\n",
    "elif no_ranking_2000s < no_ranking_1950s:\n",
    "    print(\"There were more roles with no ranking in the 1950s compared to the 2000s.\")\n",
    "else:\n",
    "    print(\"The number of roles with no ranking was the same in the 2000s and 1950s.\")\n"
   ]
  },
  {
   "cell_type": "markdown",
   "id": "33d9c249",
   "metadata": {},
   "source": [
    "### 11. Plot the number of films made in each decade"
   ]
  },
  {
   "cell_type": "code",
   "execution_count": 64,
   "id": "3f6c5b5a",
   "metadata": {},
   "outputs": [
    {
     "data": {
      "image/png": "[encoded data removed]",
      "text/plain": [
       "<Figure size 1000x600 with 1 Axes>"
      ]
     },
     "metadata": {},
     "output_type": "display_data"
    }
   ],
   "source": [
    "# Define a function to get the decade from the year\n",
    "def get_decade(year):\n",
    "    return year // 10 * 10\n",
    "\n",
    "# Add a new column 'decade' to the DataFrame representing the decade\n",
    "titles['decade'] = titles['year'].apply(get_decade)\n",
    "\n",
    "# Group the data by decade and count the number of films in each decade\n",
    "films_per_decade = titles.groupby('decade').size()\n",
    "\n",
    "# Plot the data on a bar graph with a clean style and color palette\n",
    "plt.figure(figsize=(10, 6))\n",
    "plt.bar(films_per_decade.index.astype(str), films_per_decade.values, color='skyblue')\n",
    "\n",
    "# Set the title and labels\n",
    "plt.title('Number of Films Made in Each Decade')\n",
    "plt.xlabel('Decade')\n",
    "plt.ylabel('Number of Films')\n",
    "\n",
    "# Rotate x-tick labels for better readability\n",
    "plt.xticks(rotation=45, ha='right')\n",
    "\n",
    "# Add gridlines\n",
    "plt.grid(axis='y')\n",
    "\n",
    "# Show the plot\n",
    "plt.tight_layout()\n",
    "plt.show()"
   ]
  },
  {
   "cell_type": "markdown",
   "id": "7b8b93e3",
   "metadata": {},
   "source": [
    "### 12. Plot the number of films with a Rustler character over time"
   ]
  },
  {
   "cell_type": "code",
   "execution_count": 65,
   "id": "bbd9f613",
   "metadata": {},
   "outputs": [
    {
     "data": {
      "image/png": "[encoded data removed]",
      "text/plain": [
       "<Figure size 1000x600 with 1 Axes>"
      ]
     },
     "metadata": {},
     "output_type": "display_data"
    }
   ],
   "source": [
    "# Filter the 'cast' DataFrame to include only entries with the character \"Rustler\"\n",
    "rustler_films = cast[cast['character'] == 'Rustler']\n",
    "\n",
    "# Group the data by year and count the number of films with a \"Rustler\" character for each year\n",
    "rustler_films_over_time = rustler_films.groupby('year').size()\n",
    "\n",
    "# Plot the data on a line graph\n",
    "plt.figure(figsize=(10, 6))\n",
    "rustler_films_over_time.plot(kind='line', marker='o', color='green')\n",
    "\n",
    "# Set the title and labels\n",
    "plt.title('Number of Films with a Rustler Character Over Time')\n",
    "plt.xlabel('Year')\n",
    "plt.ylabel('Number of Films')\n",
    "\n",
    "# Add gridlines\n",
    "plt.grid(True)\n",
    "\n",
    "# Show the plot\n",
    "plt.tight_layout()\n",
    "plt.show()\n"
   ]
  },
  {
   "cell_type": "markdown",
   "id": "1df5a8a7",
   "metadata": {},
   "source": [
    "### 13. What are the top ten character names of all time?"
   ]
  },
  {
   "cell_type": "code",
   "execution_count": 66,
   "id": "fc30c391",
   "metadata": {},
   "outputs": [
    {
     "name": "stdout",
     "output_type": "stream",
     "text": [
      "Top ten character names of all time:\n",
      "character\n",
      "Himself        19637\n",
      "Dancer         12019\n",
      "Extra          10848\n",
      "Reporter        7818\n",
      "Doctor          6963\n",
      "Party Guest     6786\n",
      "Student         6631\n",
      "Policeman       6424\n",
      "Bartender       6290\n",
      "Herself         6269\n",
      "Name: count, dtype: int64\n"
     ]
    }
   ],
   "source": [
    "# Group the data by character name and count the occurrences of each character\n",
    "character_counts = cast['character'].value_counts()\n",
    "\n",
    "# Select the top ten character names\n",
    "top_ten_characters = character_counts.head(10)\n",
    "\n",
    "# Print the top ten character names\n",
    "print(\"Top ten character names of all time:\")\n",
    "print(top_ten_characters)\n"
   ]
  },
  {
   "cell_type": "markdown",
   "id": "febd5c97",
   "metadata": {},
   "source": [
    "### 14. Which actor appeared in the most films in the 1990's decade?"
   ]
  },
  {
   "cell_type": "code",
   "execution_count": 67,
   "id": "ed10c4df",
   "metadata": {},
   "outputs": [
    {
     "name": "stdout",
     "output_type": "stream",
     "text": [
      "Actor with the most appearances in the 1990s: Shakti Kapoor\n"
     ]
    }
   ],
   "source": [
    "# Filter the 'cast' DataFrame to include only entries from the 1990s\n",
    "cast_1990s = cast[(cast['year'] >= 1990) & (cast['year'] < 2000)]\n",
    "\n",
    "# Group the data by actor and count the number of appearances of each actor\n",
    "actor_appearances_1990s = cast_1990s['name'].value_counts()\n",
    "\n",
    "# Identify the actor with the most appearances in the 1990s\n",
    "actor_with_most_appearances_1990s = actor_appearances_1990s.idxmax()\n",
    "\n",
    "# Print the actor with the most appearances in the 1990s\n",
    "print(\"Actor with the most appearances in the 1990s:\", actor_with_most_appearances_1990s)"
   ]
  },
  {
   "cell_type": "markdown",
   "id": "b2d57a18",
   "metadata": {},
   "source": [
    "### 15. What are the top 10 roles that start with Science?"
   ]
  },
  {
   "cell_type": "code",
   "execution_count": 68,
   "id": "64b41362",
   "metadata": {},
   "outputs": [
    {
     "name": "stdout",
     "output_type": "stream",
     "text": [
      "Top 10 roles that start with Science: character\n",
      "Science Teacher         57\n",
      "Science Fair Student     9\n",
      "Science Student          6\n",
      "Science Fair Judge       6\n",
      "Science Kid              5\n",
      "Science Fair Kid         5\n",
      "Science Reporter         5\n",
      "Science                  4\n",
      "Science Officer          3\n",
      "Science teacher          3\n",
      "Name: count, dtype: int64\n"
     ]
    }
   ],
   "source": [
    "science_roles = cast.dropna(subset=['character'])  # Drop rows with NaN values in 'character' column\n",
    "science_roles = science_roles[science_roles['character'].str.startswith('Science')]\n",
    "top_science_roles = science_roles['character'].value_counts().head(10)\n",
    "print(\"Top 10 roles that start with Science:\", top_science_roles)"
   ]
  },
  {
   "cell_type": "markdown",
   "id": "7e37caf3",
   "metadata": {},
   "source": [
    "### 16. What film has the largest cast"
   ]
  },
  {
   "cell_type": "code",
   "execution_count": 69,
   "id": "1de674fc",
   "metadata": {},
   "outputs": [
    {
     "name": "stdout",
     "output_type": "stream",
     "text": [
      "Film with the largest cast: Around the World in 80 Days\n"
     ]
    }
   ],
   "source": [
    "# Group the data by film title and count the number of unique names for each film\n",
    "film_cast_counts = cast.groupby('title')['name'].nunique()\n",
    "\n",
    "# Identify the film with the largest cast\n",
    "film_with_largest_cast = film_cast_counts.idxmax()\n",
    "\n",
    "# Print the film with the largest cast\n",
    "print(\"Film with the largest cast:\", film_with_largest_cast)"
   ]
  },
  {
   "cell_type": "markdown",
   "id": "3a1a26ba",
   "metadata": {},
   "source": [
    "### 17. Generate descriptive statistics for cast size. Briefly comment on the results"
   ]
  },
  {
   "cell_type": "code",
   "execution_count": 70,
   "id": "b0592c92",
   "metadata": {},
   "outputs": [
    {
     "name": "stdout",
     "output_type": "stream",
     "text": [
      "Descriptive statistics for cast size:\n",
      "count    168252.000000\n",
      "mean         20.116022\n",
      "std          23.608035\n",
      "min           1.000000\n",
      "25%           6.000000\n",
      "50%          13.000000\n",
      "75%          26.000000\n",
      "max        1363.000000\n",
      "Name: name, dtype: float64\n"
     ]
    }
   ],
   "source": [
    "# Generate descriptive statistics for cast size\n",
    "cast_size_stats = cast.groupby('title')['name'].nunique().describe()\n",
    "\n",
    "# Print the descriptive statistics\n",
    "print(\"Descriptive statistics for cast size:\")\n",
    "print(cast_size_stats)"
   ]
  },
  {
   "cell_type": "markdown",
   "id": "57885f86",
   "metadata": {},
   "source": [
    "### 18. How many films has Natalie Portman been in in each year throughout her career?"
   ]
  },
  {
   "cell_type": "code",
   "execution_count": 71,
   "id": "e2457352",
   "metadata": {},
   "outputs": [
    {
     "name": "stdout",
     "output_type": "stream",
     "text": [
      "Number of films Natalie Portman has been in each year:\n",
      "year\n",
      "1995    1\n",
      "1996    3\n",
      "1999    3\n",
      "2000    1\n",
      "2001    1\n",
      "2002    1\n",
      "2003    1\n",
      "2004    2\n",
      "2005    4\n",
      "2006    2\n",
      "2007    3\n",
      "2008    1\n",
      "2009    2\n",
      "2010    4\n",
      "2011    3\n",
      "2013    1\n",
      "2015    4\n",
      "2016    3\n",
      "2017    1\n",
      "dtype: int64\n"
     ]
    }
   ],
   "source": [
    "# Filter the 'cast' DataFrame to include only entries where Natalie Portman appears\n",
    "natalie_portman_films_per_year = cast[cast['name'] == 'Natalie Portman'].groupby('year').size()\n",
    "\n",
    "# Print the number of films Natalie Portman has been in each year\n",
    "print(\"Number of films Natalie Portman has been in each year:\")\n",
    "print(natalie_portman_films_per_year)"
   ]
  },
  {
   "cell_type": "markdown",
   "id": "1bff19c5",
   "metadata": {},
   "source": [
    "### 19. How many films did Natalie Portman appear in each year where where she was either the top star or co-star?"
   ]
  },
  {
   "cell_type": "code",
   "execution_count": 72,
   "id": "e2f4d043",
   "metadata": {},
   "outputs": [
    {
     "name": "stdout",
     "output_type": "stream",
     "text": [
      "Number of films Natalie Portman appeared in each year as a top star or co-star:\n",
      "year\n",
      "1999    1\n",
      "2000    1\n",
      "2002    1\n",
      "2005    3\n",
      "2006    2\n",
      "2007    1\n",
      "2008    1\n",
      "2009    1\n",
      "2010    2\n",
      "2011    2\n",
      "2013    1\n",
      "2015    2\n",
      "2016    2\n",
      "dtype: int64\n"
     ]
    }
   ],
   "source": [
    "# Filter the 'cast' DataFrame to include only entries where Natalie Portman appears as a top star or co-star\n",
    "natalie_portman_top_films_per_year = cast[(cast['name'] == 'Natalie Portman') & (cast['n'] <= 2)].groupby('year').size()\n",
    "\n",
    "# Print the number of films Natalie Portman appeared in each year as a top star or co-star\n",
    "print(\"Number of films Natalie Portman appeared in each year as a top star or co-star:\")\n",
    "print(natalie_portman_top_films_per_year)"
   ]
  },
  {
   "cell_type": "markdown",
   "id": "8eda704b",
   "metadata": {},
   "source": [
    "### 20. Determine how many roles for actor or actress by decade. Plot the output "
   ]
  },
  {
   "cell_type": "code",
   "execution_count": 73,
   "id": "6abd6fe1",
   "metadata": {},
   "outputs": [
    {
     "data": {
      "text/plain": [
       "<Figure size 1000x600 with 0 Axes>"
      ]
     },
     "metadata": {},
     "output_type": "display_data"
    },
    {
     "data": {
      "image/png": "[encoded data removed]",
      "text/plain": [
       "<Figure size 640x480 with 1 Axes>"
      ]
     },
     "metadata": {},
     "output_type": "display_data"
    }
   ],
   "source": [
    "# Filter the 'cast' DataFrame to consider data up to February 2024\n",
    "cast = cast[cast['year'] <= 2024]\n",
    "\n",
    "# Define a function to get the decade from the year\n",
    "def get_decade(year):\n",
    "    return year // 10 * 10\n",
    "\n",
    "# Add a new column 'decade' to the DataFrame representing the decade\n",
    "cast['decade'] = cast['year'].apply(get_decade)\n",
    "\n",
    "# Group the data by decade and type (actor/actress) and count the number of roles\n",
    "roles_by_decade = cast.groupby(['decade', 'type']).size().unstack()\n",
    "\n",
    "# Plot the output on a neat and clean bar graph\n",
    "plt.figure(figsize=(10, 6))\n",
    "roles_by_decade.plot(kind='bar', stacked=True, color=['skyblue', 'orange'])\n",
    "\n",
    "# Set the title and labels\n",
    "plt.title('Number of Roles for Actor or Actress by Decade')\n",
    "plt.xlabel('Decade')\n",
    "plt.ylabel('Number of Roles')\n",
    "plt.legend(title='Type', loc='upper left')\n",
    "\n",
    "# Add gridlines and adjust layout\n",
    "plt.grid(True)\n",
    "plt.tight_layout()\n",
    "\n",
    "# Show the plot\n",
    "plt.show()"
   ]
  },
  {
   "cell_type": "markdown",
   "id": "fffe663b",
   "metadata": {},
   "source": [
    "### 21. Determine and comment on the day of the week that movies are released. What is notable about release days and months throughout the year? (Use pd.pivot_table)"
   ]
  },
  {
   "cell_type": "code",
   "execution_count": 74,
   "id": "5d3f6e03",
   "metadata": {},
   "outputs": [],
   "source": [
    "# Convert 'date' column to datetime format\n",
    "release_dates['date'] = pd.to_datetime(release_dates['date'])\n",
    "\n",
    "# Extract day of the week and month from the 'date' column\n",
    "release_dates['day_of_week'] = release_dates['date'].dt.day_name()\n",
    "release_dates['month'] = release_dates['date'].dt.month_name()\n",
    "\n",
    "# Determine the number of releases by day of the week\n",
    "day_of_week_counts = release_dates['day_of_week'].value_counts()\n",
    "\n",
    "# Determine the number of releases by month\n",
    "month_counts = release_dates['month'].value_counts()"
   ]
  },
  {
   "cell_type": "markdown",
   "id": "6f225fc1",
   "metadata": {},
   "source": [
    "Release Days:\n",
    "\n",
    "Fridays and Thursdays see the highest number of releases, suggesting studios aim to capture weekend audiences.\n",
    "Wednesdays and Mondays also have significant releases, likely to attract early-week audiences.\n",
    "\n",
    "Release Months:\n",
    "\n",
    "March, October, January, December, and November have the highest number of releases, likely due to holiday seasons and significant film festivals.\n",
    "Conversely, June, July, August, and May have slightly fewer releases, possibly to minimize competition with blockbuster releases or target specific audiences."
   ]
  },
  {
   "cell_type": "markdown",
   "id": "88b4b805",
   "metadata": {},
   "source": [
    "### 22. Can you plot the pivot table? Is the output \"correct\"? Can you fix it?"
   ]
  },
  {
   "cell_type": "code",
   "execution_count": null,
   "id": "07152c8b",
   "metadata": {},
   "outputs": [],
   "source": [
    "# Plot the pivot table\n",
    "plt.figure(figsize=(12, 8))\n",
    "plt.imshow(release_pivot, cmap='YlGnBu')  # Using 'YlGnBu' colormap for subtler colors\n",
    "plt.colorbar(label='Number of Releases')\n",
    "plt.xlabel('Month')\n",
    "plt.ylabel('Day of the Week')\n",
    "plt.title('Number of Movie Releases by Day of the Week and Month')\n",
    "plt.xticks(range(len(release_pivot.columns)), release_pivot.columns, rotation=45)\n",
    "plt.yticks(range(len(release_pivot.index)), release_pivot.index)\n",
    "plt.tight_layout()\n",
    "plt.show()"
   ]
  },
  {
   "cell_type": "markdown",
   "id": "19fc8bc4",
   "metadata": {},
   "source": [
    "### 23. What films did actors in Star Wars go on to appear in? "
   ]
  },
  {
   "cell_type": "code",
   "execution_count": 52,
   "id": "35e5f456",
   "metadata": {},
   "outputs": [
    {
     "name": "stdout",
     "output_type": "stream",
     "text": [
      "Films actors in Star Wars went on to appear in:\n",
      "['Rogue One' 'Smorgasbord' 'The Sting II' \"Adventures of a Plumber's Mate\"\n",
      " 'Licensed to Love and Kill' '24 Hour Party People' 'Amadeus'\n",
      " 'Flash Gordon' 'Labyrinth' 'Mona Lisa' 'Sleeping Beauty'\n",
      " 'Star Wars: Episode I - The Phantom Menace'\n",
      " 'Star Wars: Episode II - Attack of the Clones'\n",
      " 'Star Wars: Episode III - Revenge of the Sith'\n",
      " 'Star Wars: Episode V - The Empire Strikes Back'\n",
      " 'Star Wars: Episode VI - Return of the Jedi' 'The Elephant Man'\n",
      " 'The King and I' 'Time Bandits' 'U.F.O.' 'Willow' 'Wombling Free'\n",
      " \"Bon Voyage, Charlie Brown (and Don't Come Back!!)\"\n",
      " 'Chu Chu and the Philly Flash' 'Getting Even with Dad' 'Mrs. Doubtfire'\n",
      " 'Out' 'Stand by Me' 'The Right Stuff' 'To Be or Not to Be'\n",
      " 'Tucker: The Man and His Dream' 'Bad Blood' 'The Second Victory'\n",
      " 'Chaplin' \"Miss Beatty's Children\" 'Superman' 'A Hitch in Time'\n",
      " 'Britannia Hospital' \"Let's Get Laid\" 'The Thief and the Cobbler'\n",
      " 'Instant Death' 'Scrapper' 'A View to a Kill' 'Burning an Illusion'\n",
      " 'Gentry' 'The Holcroft Covenant' \"The Wildcats of St. Trinian's\"\n",
      " 'A Touch of the Sun' 'Arabian Adventure' 'Asalto al casino' 'Biggles'\n",
      " 'Son of Hitler'\n",
      " 'Sword of the Valiant: The Legend of Sir Gawain and the Green Knight'\n",
      " 'Top Secret!' 'Bruges-La-Morte'\n",
      " 'Ralph Breaks the Internet: Wreck-It Ralph 2'\n",
      " 'Star Wars: Episode VII - The Force Awakens' 'Star Wars: The Clone Wars'\n",
      " 'The LEGO Movie' 'The Lord of the Rings' 'Highlander'\n",
      " 'Ik ben Joep Meloen' 'Nate and Hayes' 'Raiders of the Lost Ark'\n",
      " 'Superman IV: The Quest for Peace' 'Victor Victoria' '101 Dalmatians'\n",
      " 'A Nightingale Sang in Berkeley Square' 'Agatha' 'Birth of the Beatles'\n",
      " 'Breaking Glass' 'Dance with a Stranger' 'Diana & Me' 'Empire State'\n",
      " 'Entrapment' 'Evita' 'FairyTale: A True Story' 'First Knight'\n",
      " 'Force 10 from Navarone' 'Fords on Water' 'Hawks'\n",
      " 'History of the World: Part I' 'Incognito' 'Loch Ness' 'McVicar'\n",
      " 'Mission: Impossible' 'Pink Floyd: The Wall' 'Plenty' 'Quadrophenia'\n",
      " 'Ragtime' 'Reds' 'Superman II' 'Sweeney 2' 'The Bitch' 'The Jackal'\n",
      " 'The Long Good Friday' 'The Man Who Knew Too Little'\n",
      " 'The Thirty-Nine Steps' 'True Blue' 'Where Is Parsifal?' 'Who Dares Wins'\n",
      " 'Wilde' 'Yanks' '42' 'Air Force One' 'Anchorman 2: The Legend Continues'\n",
      " 'Apocalypse Now' 'Blade Runner' 'Blade Runner 2049'\n",
      " 'Clear and Present Danger' 'Cowboys & Aliens' 'Crossing Over'\n",
      " \"Ender's Game\" 'Extraordinary Measures' 'Firewall' 'Frantic'\n",
      " 'Hanover Street' 'Hollywood Homicide'\n",
      " 'Indiana Jones and the Kingdom of the Crystal Skull'\n",
      " 'Indiana Jones and the Last Crusade'\n",
      " 'Indiana Jones and the Temple of Doom' 'Jimmy Hollywood'\n",
      " 'K-19: The Widowmaker' 'More American Graffiti' 'Morning Glory'\n",
      " 'Paranoia' 'Patriot Games' 'Presumed Innocent' 'Random Hearts'\n",
      " 'Regarding Henry' 'Sabrina' 'Six Days Seven Nights' 'The Age of Adaline'\n",
      " \"The Devil's Own\" 'The Expendables 3' 'The Frisco Kid' 'The Fugitive'\n",
      " 'The Mosquito Coast' 'Untitled Indiana Jones Project' 'Witness'\n",
      " 'Working Girl' 'Broken (IV)' 'Dorian Gray' 'Hotel Splendide' 'Pan'\n",
      " 'Ali G Indahouse' 'Fred Claus' 'Funny Bones'\n",
      " 'Harry Potter and the Deathly Hallows: Part 2'\n",
      " 'Harry Potter and the Half-Blood Prince'\n",
      " 'Harry Potter and the Order of the Phoenix'\n",
      " \"Harry Potter and the Sorcerer's Stone\" 'Mirrormask'\n",
      " 'Mrs Henderson Presents' 'The Love Child' 'A Handful of Dust'\n",
      " 'A Passage to India' 'Kafka' 'Little Dorrit' 'Lovesick'\n",
      " 'Raise the Titanic' 'Almost Heaven' 'Balto' 'Batman' 'Born to Ride'\n",
      " 'Charlie and the Chocolate Factory' 'Chasing Liberty'\n",
      " 'Country of My Skull' 'Cry Freedom' 'Erased' 'Fade to Black'\n",
      " 'Finding Rin Tin Tin' 'Is Anybody There?' 'Malice in Wonderland'\n",
      " 'Me and Orson Welles' 'Monsters of the Id' 'Murder Story' 'Ninja'\n",
      " 'Nowhere to Hide' 'RED 2' 'Rolling Vengeance' 'Rupan sansei' 'Spy Game'\n",
      " 'Taking Sides' 'The Fourth Angel' 'The Jacket' 'The Walker'\n",
      " 'The War of the Starfighters' 'Venus Senki' 'Yapian zhanzheng'\n",
      " 'Zwartboek' 'Back to the Sea' 'Batman: Mask of the Phantasm'\n",
      " 'Batman: The Killing Joke' 'Brigsby Bear' 'Bunyan and Babe' 'Con Man'\n",
      " 'Corvette Summer' 'Guyver' 'Hamilton'\n",
      " 'Howard Lovecraft & the Undersea Kingdom'\n",
      " 'Jay and Silent Bob Strike Back' 'Kaze no tani no Naushika'\n",
      " 'Kingsman: The Secret Service' 'La chute des aigles' 'Laserhawk'\n",
      " 'Quantum Quest: A Cassini Space Odyssey' 'Reeseville' 'Repetition (II)'\n",
      " 'Robotech: The Shadow Chronicles' 'Silk Degrees'\n",
      " 'Sinbad: Beyond the Veil of Mists' 'Slipstream' 'Star Wars: Episode IX'\n",
      " 'Sushi Girl' 'Terra' 'Thank You, Good Night' 'The Big Red One'\n",
      " 'The Night the Lights Went Out in Georgia' 'The Raffle'\n",
      " 'Thru the Moebius Strip' 'Time Runner' 'Virtually Heroes'\n",
      " 'Walking Across Egypt' 'Wing Commander' \"Wolf Tracer's Dinosaur Island\"\n",
      " 'Octopussy' 'Bullshot' 'Morons from Outer Space' 'Squeeze Play'\n",
      " 'The Living Daylights' 'As You Like It' 'Blanc de Chine' 'Brazil'\n",
      " 'Carry on Columbus' \"How's Business\" 'No Escape'\n",
      " 'Preaching to the Perverted' 'Tank Malling'\n",
      " 'The Adventures of Baron Munchausen' 'The Big Sleep' 'The Fool'\n",
      " 'The Trial' 'The Wind in the Willows' 'White Angel' 'Blue Ice' 'Dot.Kill'\n",
      " 'Enemy Mine' 'Half Moon Street' 'Safari 3000' \"The Film-Maker's Son\"\n",
      " 'A River Runs Through It' 'Bad Timing'\n",
      " 'Colour Me Kubrick: A True...ish Story' 'Crusoe'\n",
      " 'Curse of the Pink Panther' 'Dear Wendy'\n",
      " 'Die unendliche Geschichte III: Rettung aus Phantasien' 'Dreamchild'\n",
      " 'Gospa' 'Hardware' 'Haunted Honeymoon' 'Hear My Song' 'Hussy'\n",
      " 'Something to Believe In' 'Sphinx' 'The Cement Garden'\n",
      " 'The Lady Vanishes' 'The Miracle Maker' 'The Omega Code'\n",
      " 'The Pope Must Die' 'This World, Then the Fireworks' 'Town & Country'\n",
      " 'Trail of the Pink Panther' 'Water' 'White Nights' 'Zina'\n",
      " 'The Lawful Truth' 'A Family Thing' \"A Mime's Life\"\n",
      " 'Allan Quatermain and the Lost City of Gold' 'Best of the Best'\n",
      " 'City Limits' 'Clean Slate' 'Click' 'Coming to America'\n",
      " 'Conan the Barbarian' 'Convicts' 'Cry, the Beloved Country' 'Dreamrider'\n",
      " 'Driving Miss Daisy' 'Excessive Force' 'Field of Dreams' \"Finder's Fee\"\n",
      " 'Freddie as F.R.O.7.' 'Gang Related' 'Gardens of Stone' 'Gimme Shelter'\n",
      " 'Good Luck' 'Jack and the Beanstalk' 'Jefferson in Paris' 'Judge Dredd'\n",
      " 'Matewan' 'My Little Girl' 'Naked Gun 33 1/3: The Final Insult'\n",
      " 'On the Q.T.' 'Pinocchio and the Emperor of the Night' 'Primary Colors'\n",
      " 'Ramayana: The Legend of Prince Rama' 'Robots' 'Scary Movie 4'\n",
      " 'Scorchers' 'Sneakers' 'Sommersby' 'Soul Man'\n",
      " 'The Angriest Man in Brooklyn' 'The Annihilation of Fish'\n",
      " 'The Benchwarmers' 'The Bushido Blade' 'The Hunt for Red October'\n",
      " 'The Lion King' 'The Meteor Man' 'The Sandlot' 'Three Fugitives'\n",
      " 'True Identity' 'Undercover Angel' 'Warning Shot'\n",
      " 'Welcome Home, Roscoe Jenkins' '1871' 'Elemental Storage'\n",
      " 'For Your Eyes Only' 'Hotet' 'King David' 'The Killing Edge'\n",
      " 'The Spaceman and King Arthur' 'Local Hero' 'Perfect Sense' 'The Chain'\n",
      " 'The Machine' 'The Ride (II)' 'The Wee Man' 'Silver Dream Racer'\n",
      " 'The Berlin Conspiracy' 'The Music Machine' 'Who Framed Roger Rabbit'\n",
      " 'A Prayer for the Dying' 'Absolute Beginners' 'Castaway' 'Death Wish 3'\n",
      " 'Defence of the Realm' 'Gandhi' 'Give My Regards to Broad Street'\n",
      " 'GoldenEye' 'Greystoke: The Legend of Tarzan, Lord of the Apes' 'Krull'\n",
      " 'Personal Services' 'Richard III' 'Supergirl' 'Superman III' 'Tabloid'\n",
      " 'The Lords of Discipline' \"The Mirror Crack'd\" 'The Missionary'\n",
      " \"The Razor's Edge\" 'The Return of the Soldier' 'The Tall Guy'\n",
      " 'The Young Visiters' 'Yentl' 'Z-Listers' 'Amen.' 'Atlantic City, USA'\n",
      " 'Bedroom Eyes' 'Best Revenge' 'Captain Phillips' 'Dirty Tricks' 'Enigma'\n",
      " 'Eyes Wide Shut' 'Gross Anatomy' 'Honor Bound'\n",
      " 'If You Could See What I Hear' 'Nothing Personal'\n",
      " 'Operation Delta Force 4: Deep Fault' 'Outland' 'Rhythm & Blues'\n",
      " 'Spies Inc.' 'The 51st State'\n",
      " 'The Adventures of Bob & Doug McKenzie: Strange Brew' 'The Black Dahlia'\n",
      " 'The Krays' 'Dragonslayer' 'Fanboys' 'Yesterday Was a Lie' 'Comrades'\n",
      " 'Eye of the Needle' 'The Peregrine Hunters' 'Escape from Safehaven'\n",
      " 'Mob Queen' 'Nemo' \"Nobody's Fool\" \"Open Mic'rs\" \"Saving 'Star Wars'\"\n",
      " 'The Kindness of Strangers' 'The Dark Crystal'\n",
      " \"A Kid in King Arthur's Court\" 'A Kiss Before Dying' 'Alien Autopsy'\n",
      " 'Batman Begins' 'Company Business' 'Lovelorn' 'Mee-Shee: The Water Giant'\n",
      " 'One of the Hollywood Ten' 'Out of Africa' 'Piccolo grande amore'\n",
      " 'Priest of Love' 'Space Truckers' 'The Dogs of War' 'The Lonely Lady'\n",
      " 'Warlords of Atlantis' 'Whoops Apocalypse' 'Year of the Comet'\n",
      " 'Clockwise' 'The Wild Geese' 'Ascendancy' 'Chariots of Fire' \"Doll's Eye\"\n",
      " 'Let Him Have It' 'Madame Sousatzka' 'Rosie Dixon - Night Nurse'\n",
      " 'The Innocent' 'The Object of Beauty' 'Bush Christmas' 'Ektopos'\n",
      " 'Middle Age Spread' 'Run Rebecca, Run!' 'Ryder Country'\n",
      " 'The Chant of Jimmie Blacksmith' 'The King of the Two Day Wonder'\n",
      " 'The Fluffer' 'Braveheart' 'Great Expectations'\n",
      " 'In the Name of the Father' 'L.A. Without a Map' 'Shiner'\n",
      " 'The Final Curtain' 'The Saint' 'The Smoke' 'The Last Minute' 'U-571'\n",
      " 'W.M.D.' 'Die Laughing' 'Loose Shoes' 'Massive Retaliation'\n",
      " 'No Small Affair' 'Peggy Sue Got Married' 'Shoot the Moon'\n",
      " 'Sudden Impact' \"The Spirit of '76\" 'The Survivors' 'The Promise'\n",
      " 'Enduring Love' 'Saving Grace' 'The Oxford Murders' 'Car Trouble'\n",
      " 'Champions' 'Clash of the Titans' 'Feast of July' 'Henry V'\n",
      " \"Lady Chatterley's Lover\" 'Nineteen Eighty-Four'\n",
      " 'Robin Hood: Prince of Thieves' 'Santa Claus: The Movie'\n",
      " 'The Hour of the Pig' 'The Secret Agent' 'Withnail & I'\n",
      " 'Young Sherlock Holmes']\n",
      "Total count of movies: 475\n"
     ]
    }
   ],
   "source": [
    "# Filter the cast DataFrame to include only actors in Star Wars\n",
    "star_wars_actors = cast[(cast['title'] == 'Star Wars') & (cast['type'] == 'actor')]\n",
    "\n",
    "# Extract the names of the actors\n",
    "star_wars_actor_names = star_wars_actors['name'].unique()\n",
    "\n",
    "# Filter the cast DataFrame to include all films these actors appeared in after Star Wars\n",
    "films_after_star_wars = cast[(cast['name'].isin(star_wars_actor_names)) & (cast['year'] > 1977) & (cast['title'] != 'Star Wars')]\n",
    "\n",
    "# Display the list of films and count\n",
    "print(\"Films actors in Star Wars went on to appear in:\")\n",
    "print(films_after_star_wars['title'].unique())\n",
    "print(\"Total count of movies:\", len(films_after_star_wars['title'].unique()))"
   ]
  }
 ],
 "metadata": {
  "kernelspec": {
   "display_name": "Python 3 (ipykernel)",
   "language": "python",
   "name": "python3"
  },
  "language_info": {
   "codemirror_mode": {
    "name": "ipython",
    "version": 3
   },
   "file_extension": ".py",
   "mimetype": "text/x-python",
   "name": "python",
   "nbconvert_exporter": "python",
   "pygments_lexer": "ipython3",
   "version": "3.11.5"
  }
 },
 "nbformat": 4,
 "nbformat_minor": 5
}
